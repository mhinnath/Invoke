{
  "cells": [
    {
      "cell_type": "markdown",
      "metadata": {
        "id": "view-in-github",
        "colab_type": "text"
      },
      "source": [
        "<a href=\"https://colab.research.google.com/github/Ryuichi536/InvokeAi/blob/main/InvokeAi_Colab2.ipynb\" target=\"_parent\"><img src=\"https://colab.research.google.com/assets/colab-badge.svg\" alt=\"Open In Colab\"/></a>"
      ]
    },
    {
      "cell_type": "markdown",
      "source": [
        "---\n",
        "\n",
        "<h1>Colab Notebook for InvokeAi v3.4.0</h1>\n",
        "\n",
        "---\n",
        "\n",
        "\n"
      ],
      "metadata": {
        "id": "9XRVqxiOY-Qn"
      }
    },
    {
      "cell_type": "code",
      "source": [
        "# @title Install / Update InvokeAi { display-mode: \"form\" }\n",
        "\n",
        "import warnings\n",
        "from google.colab import drive\n",
        "drive.mount(\"/content/gdrive\")\n",
        "\n",
        "from IPython.display import clear_output\n",
        "from IPython.display import display, HTML\n",
        "\n",
        "html=\"<h1><code>BẮT ĐẦU CÀI ĐẶT CHƯƠNG TRÌNH - VUI LÒNG ĐỢI ...</code></h1><h3><code>☕️ Pha một ly cà phê đợi 5-10 phút nữa nhé ...</code></h3><p>____________________________________</p>\"\n",
        "display(HTML(html))\n",
        "\n",
        "%cd /content/gdrive/MyDrive\n",
        "\n",
        "# Clone the repository\n",
        "!git clone https://github.com/i-huzaifa-arshad/InvokeAI\n",
        "clear_output()\n",
        "\n",
        "warnings.filterwarnings(\"ignore\")\n",
        "\n",
        "%cd /content/gdrive/MyDrive/InvokeAI\n",
        "print('\u001b[1;32mCài đặt các gói phụ thuộc...')\n",
        "!pip install -q --force-reinstall -r Dependencies/Requirements.txt > nul 2>&1\n",
        "!pip install -q -e . > nul 2>&1\n",
        "print ('\\u2714 Xong!')"
      ],
      "metadata": {
        "id": "XiOM2iy7DNWB"
      },
      "execution_count": null,
      "outputs": []
    },
    {
      "cell_type": "code",
      "source": [
        "# @title Model Download { display-mode: \"form\" }\n",
        "\n",
        "#@markdown _/content/gdrive/MyDrive/InvokeAI/invokeai/configs/INITIAL_MODELS.yaml_ and change `recommended: False` to `recommended: True`\n",
        "\n",
        "import os\n",
        "import warnings\n",
        "\n",
        "os.environ['TF_CPP_MIN_LOG_LEVEL'] = '3'\n",
        "warnings.filterwarnings(\"ignore\")\n",
        "\n",
        "%cd /content/gdrive/MyDrive/InvokeAI/\n",
        "\n",
        "print('\u001b[1;32mĐang tải mô hình...')\n",
        "\n",
        "!python /content/gdrive/MyDrive/InvokeAI/scripts/invokeai-model-install.py --root_dir /content/GUI --yes > /dev/null 2>&1\n",
        "print('____________________________________')\n",
        "\n",
        "#@markdown ## 🏞️ Model Download\n",
        "Model_Link = \"https://civitai.com/api/download/models/249401?type=Model&format=SafeTensor&size=pruned&fp=fp16\" #@param {type:\"string\"}\n",
        "Model_Link = Model_Link.replace(\"&\", \"\\&\")\n",
        "if Model_Link !=\"\":\n",
        " %cd /content/GUI/models/sd-1/main\n",
        " !wget {Model_Link} --content-disposition\n",
        "else:\n",
        " print('Không có Model nào cần tải về')\n",
        "\n",
        "print('Mô hình vừa được tải! 🚀')\n",
        "print ('\\u2714 Xong!')\n"
      ],
      "metadata": {
        "id": "cd2VB5GzPuQD"
      },
      "execution_count": null,
      "outputs": []
    },
    {
      "cell_type": "code",
      "execution_count": null,
      "metadata": {
        "id": "BWoTrZLRP5zh"
      },
      "outputs": [],
      "source": [
        "# @title Run InvokeAI { display-mode: \"form\" }\n",
        "\n",
        "import os\n",
        "from IPython.display import clear_output\n",
        "clear_output()\n",
        "\n",
        "os.environ['TF_CPP_MIN_LOG_LEVEL'] = '3'\n",
        "\n",
        "ngrok_token = \"2SkH9plOAQMUzKb0Fh5rUDQskC4_3im4VxhAYSkwZnbJfVWeu\" #@param {type:\"string\"}\n",
        "!pip install pyngrok --quiet\n",
        "from pyngrok import ngrok\n",
        "\n",
        "ngrok.kill()\n",
        "ngrok.set_auth_token(ngrok_token)\n",
        "public_url = ngrok.connect(9090).public_url\n",
        "print(f'Invoke Ai public url: {public_url}')\n",
        "\n",
        "%cd /content/gdrive/MyDrive/InvokeAI/\n",
        "!python /content/gdrive/MyDrive/InvokeAI/scripts/invokeai-web.py --root /content/GUI"
      ]
    }
  ],
  "metadata": {
    "colab": {
      "provenance": [],
      "gpuType": "T4",
      "include_colab_link": true
    },
    "kernelspec": {
      "display_name": "Python 3",
      "name": "python3"
    },
    "language_info": {
      "name": "python"
    },
    "accelerator": "GPU"
  },
  "nbformat": 4,
  "nbformat_minor": 0
}